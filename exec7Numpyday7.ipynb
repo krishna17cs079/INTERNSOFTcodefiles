{
 "cells": [
  {
   "cell_type": "code",
   "execution_count": 1,
   "metadata": {},
   "outputs": [
    {
     "data": {
      "text/plain": [
       "array([[ 0,  1,  2,  3],\n",
       "       [ 4,  5,  6,  7],\n",
       "       [ 8,  9, 10, 11]])"
      ]
     },
     "execution_count": 1,
     "metadata": {},
     "output_type": "execute_result"
    }
   ],
   "source": [
    "#Boolean Indexing\n",
    "import numpy as np\n",
    "a=np.arange(12).reshape(3,4)\n",
    "a"
   ]
  },
  {
   "cell_type": "code",
   "execution_count": 2,
   "metadata": {},
   "outputs": [
    {
     "data": {
      "text/plain": [
       "array([[0, 1, 2, 3],\n",
       "       [4, 0, 0, 0],\n",
       "       [0, 0, 0, 0]])"
      ]
     },
     "execution_count": 2,
     "metadata": {},
     "output_type": "execute_result"
    }
   ],
   "source": [
    "a[a>4]=0\n",
    "a"
   ]
  },
  {
   "cell_type": "code",
   "execution_count": 3,
   "metadata": {},
   "outputs": [
    {
     "data": {
      "text/plain": [
       "array([[-1,  1,  2,  3],\n",
       "       [ 4, -1, -1, -1],\n",
       "       [-1, -1, -1, -1]])"
      ]
     },
     "execution_count": 3,
     "metadata": {},
     "output_type": "execute_result"
    }
   ],
   "source": [
    "a[a==0]=-1\n",
    "a"
   ]
  },
  {
   "cell_type": "code",
   "execution_count": 4,
   "metadata": {},
   "outputs": [
    {
     "data": {
      "text/plain": [
       "array([[ True, False, False, False],\n",
       "       [False,  True,  True,  True],\n",
       "       [ True,  True,  True,  True]])"
      ]
     },
     "execution_count": 4,
     "metadata": {},
     "output_type": "execute_result"
    }
   ],
   "source": [
    "a == -1"
   ]
  },
  {
   "cell_type": "code",
   "execution_count": 6,
   "metadata": {},
   "outputs": [
    {
     "data": {
      "text/plain": [
       "array([[ 0,  1,  2,  3],\n",
       "       [ 0,  0,  0,  0],\n",
       "       [ 0,  0, 10, 11]])"
      ]
     },
     "execution_count": 6,
     "metadata": {},
     "output_type": "execute_result"
    }
   ],
   "source": [
    "b=np.arange(12).reshape(3,4)\n",
    "b[np.logical_and(b>3,b<=9)]=0.0\n",
    "b"
   ]
  },
  {
   "cell_type": "code",
   "execution_count": 8,
   "metadata": {},
   "outputs": [
    {
     "data": {
      "text/plain": [
       "array([[False, False, False, False],\n",
       "       [False, False, False, False],\n",
       "       [False, False,  True,  True]])"
      ]
     },
     "execution_count": 8,
     "metadata": {},
     "output_type": "execute_result"
    }
   ],
   "source": [
    "b>4"
   ]
  },
  {
   "cell_type": "code",
   "execution_count": 10,
   "metadata": {},
   "outputs": [
    {
     "name": "stdout",
     "output_type": "stream",
     "text": [
      "(32,)\n",
      "(64,)\n",
      "[0.      0.03125 0.0625  0.09375 0.125   0.15625 0.1875  0.21875 0.25\n",
      " 0.28125 0.3125  0.34375 0.375   0.40625 0.4375  0.46875 0.5     0.53125\n",
      " 0.5625  0.59375 0.625   0.65625 0.6875  0.71875 0.75    0.78125 0.8125\n",
      " 0.84375 0.875   0.90625 0.9375  0.96875]\n",
      "[0.         0.01587302 0.03174603 0.04761905 0.06349206 0.07936508\n",
      " 0.0952381  0.11111111 0.12698413 0.14285714 0.15873016 0.17460317\n",
      " 0.19047619 0.20634921 0.22222222 0.23809524 0.25396825 0.26984127\n",
      " 0.28571429 0.3015873  0.31746032 0.33333333 0.34920635 0.36507937\n",
      " 0.38095238 0.3968254  0.41269841 0.42857143 0.44444444 0.46031746\n",
      " 0.47619048 0.49206349 0.50793651 0.52380952 0.53968254 0.55555556\n",
      " 0.57142857 0.58730159 0.6031746  0.61904762 0.63492063 0.65079365\n",
      " 0.66666667 0.68253968 0.6984127  0.71428571 0.73015873 0.74603175\n",
      " 0.76190476 0.77777778 0.79365079 0.80952381 0.82539683 0.84126984\n",
      " 0.85714286 0.87301587 0.88888889 0.9047619  0.92063492 0.93650794\n",
      " 0.95238095 0.96825397 0.98412698 1.        ]\n"
     ]
    }
   ],
   "source": [
    "M =32\n",
    "N =64\n",
    "\n",
    "xmin=ymin=0.0\n",
    "xmax=ymax=1.0\n",
    "\n",
    "x = np.linspace(xmin,xmax,M,endpoint=False)\n",
    "y = np.linspace(ymin,ymax,N,endpoint=True)\n",
    "\n",
    "print(x.shape)\n",
    "print(y.shape)\n",
    "\n",
    "print(x)\n",
    "print(y)"
   ]
  },
  {
   "cell_type": "code",
   "execution_count": 42,
   "metadata": {},
   "outputs": [],
   "source": [
    "import time\n",
    "m=32\n",
    "n=64\n",
    "\n",
    "x=np.linspace(0.0,1.0,m,endpoint=False)\n",
    "y=np.linspace(0.0,1.0,n,endpoint=False)\n"
   ]
  },
  {
   "cell_type": "code",
   "execution_count": 45,
   "metadata": {},
   "outputs": [
    {
     "name": "stdout",
     "output_type": "stream",
     "text": [
      "[[0. 0. 0. ... 0. 0. 0.]\n",
      " [0. 0. 0. ... 0. 0. 0.]\n",
      " [0. 0. 0. ... 0. 0. 0.]\n",
      " ...\n",
      " [0. 0. 0. ... 0. 0. 0.]\n",
      " [0. 0. 0. ... 0. 0. 0.]\n",
      " [0. 0. 0. ... 0. 0. 0.]]\n",
      "[[ 0.          0.          0.         ...  0.          0.\n",
      "   0.        ]\n",
      " [ 0.          0.00306796  0.00613588 ...  0.18605515  0.18906866\n",
      "   0.1920804 ]\n",
      " [ 0.          0.00613588  0.01227154 ...  0.365613    0.37131719\n",
      "   0.37700741]\n",
      " ...\n",
      " [ 0.          0.08885355  0.17700422 ... -0.75520138 -0.69397146\n",
      "  -0.62725182]\n",
      " [ 0.          0.09190896  0.18303989 ... -0.62005721 -0.54532499\n",
      "  -0.4659765 ]\n",
      " [ 0.          0.0949635   0.18906866 ... -0.46325978 -0.37700741\n",
      "  -0.28734746]]\n",
      "time elapsed:0.025552749633789062 s\n"
     ]
    }
   ],
   "source": [
    "t0=time.time()\n",
    "\n",
    "g=np.zeros((m,n))\n",
    "\n",
    "print(g)\n",
    "\n",
    "for i in range(m):\n",
    "    for j in range(n):\n",
    "        g[i,j] = np.sin(2.0*np.pi*x[i]*y[j])\n",
    "print(g)      \n",
    "t1=time.time()\n",
    "print(\"time elapsed:{} s\".format(t1-t0))"
   ]
  },
  {
   "cell_type": "code",
   "execution_count": 47,
   "metadata": {},
   "outputs": [
    {
     "name": "stdout",
     "output_type": "stream",
     "text": [
      "[0. 0. 0. 0. 0. 0. 0. 0. 0. 0. 0. 0. 0. 0. 0. 0. 0. 0. 0. 0. 0. 0. 0. 0.\n",
      " 0. 0. 0. 0. 0. 0. 0. 0.]\n",
      "[0.       0.015625 0.03125  0.046875 0.0625   0.078125 0.09375  0.109375\n",
      " 0.125    0.140625 0.15625  0.171875 0.1875   0.203125 0.21875  0.234375\n",
      " 0.25     0.265625 0.28125  0.296875 0.3125   0.328125 0.34375  0.359375\n",
      " 0.375    0.390625 0.40625  0.421875 0.4375   0.453125 0.46875  0.484375\n",
      " 0.5      0.515625 0.53125  0.546875 0.5625   0.578125 0.59375  0.609375\n",
      " 0.625    0.640625 0.65625  0.671875 0.6875   0.703125 0.71875  0.734375\n",
      " 0.75     0.765625 0.78125  0.796875 0.8125   0.828125 0.84375  0.859375\n",
      " 0.875    0.890625 0.90625  0.921875 0.9375   0.953125 0.96875  0.984375]\n",
      "[0.      0.03125 0.0625  0.09375 0.125   0.15625 0.1875  0.21875 0.25\n",
      " 0.28125 0.3125  0.34375 0.375   0.40625 0.4375  0.46875 0.5     0.53125\n",
      " 0.5625  0.59375 0.625   0.65625 0.6875  0.71875 0.75    0.78125 0.8125\n",
      " 0.84375 0.875   0.90625 0.9375  0.96875]\n",
      "[0. 0. 0. 0. 0. 0. 0. 0. 0. 0. 0. 0. 0. 0. 0. 0. 0. 0. 0. 0. 0. 0. 0. 0.\n",
      " 0. 0. 0. 0. 0. 0. 0. 0. 0. 0. 0. 0. 0. 0. 0. 0. 0. 0. 0. 0. 0. 0. 0. 0.\n",
      " 0. 0. 0. 0. 0. 0. 0. 0. 0. 0. 0. 0. 0. 0. 0. 0.]\n"
     ]
    }
   ],
   "source": [
    "x2d,y2d = np.meshgrid(x, y, indexing=\"ij\")\n",
    "print(y2d[:,0])\n",
    "print(y2d[0,:])\n",
    "\n",
    "print(x2d[:,0])\n",
    "print(x2d[0,:])"
   ]
  },
  {
   "cell_type": "code",
   "execution_count": 48,
   "metadata": {},
   "outputs": [
    {
     "name": "stdout",
     "output_type": "stream",
     "text": [
      "time elapsed:0.0010013580322265625 s\n"
     ]
    }
   ],
   "source": [
    "t0 =time.time()\n",
    "g2 = np.sin(2.0*np.pi*x2d*y2d)\n",
    "t1 = time.time()\n",
    "print(\"time elapsed:{} s\".format(t1-t0))"
   ]
  },
  {
   "cell_type": "code",
   "execution_count": 49,
   "metadata": {},
   "outputs": [
    {
     "name": "stdout",
     "output_type": "stream",
     "text": [
      "[[0.      0.      0.      ... 0.      0.      0.     ]\n",
      " [0.03125 0.03125 0.03125 ... 0.03125 0.03125 0.03125]\n",
      " [0.0625  0.0625  0.0625  ... 0.0625  0.0625  0.0625 ]\n",
      " ...\n",
      " [0.90625 0.90625 0.90625 ... 0.90625 0.90625 0.90625]\n",
      " [0.9375  0.9375  0.9375  ... 0.9375  0.9375  0.9375 ]\n",
      " [0.96875 0.96875 0.96875 ... 0.96875 0.96875 0.96875]]\n"
     ]
    }
   ],
   "source": [
    "print(x2d)"
   ]
  },
  {
   "cell_type": "code",
   "execution_count": 50,
   "metadata": {},
   "outputs": [
    {
     "name": "stdout",
     "output_type": "stream",
     "text": [
      "[[0.       0.015625 0.03125  ... 0.953125 0.96875  0.984375]\n",
      " [0.       0.015625 0.03125  ... 0.953125 0.96875  0.984375]\n",
      " [0.       0.015625 0.03125  ... 0.953125 0.96875  0.984375]\n",
      " ...\n",
      " [0.       0.015625 0.03125  ... 0.953125 0.96875  0.984375]\n",
      " [0.       0.015625 0.03125  ... 0.953125 0.96875  0.984375]\n",
      " [0.       0.015625 0.03125  ... 0.953125 0.96875  0.984375]]\n"
     ]
    }
   ],
   "source": [
    "print(y2d)"
   ]
  },
  {
   "cell_type": "code",
   "execution_count": 51,
   "metadata": {},
   "outputs": [
    {
     "data": {
      "text/plain": [
       "array([1, 2, 3, 4])"
      ]
     },
     "execution_count": 51,
     "metadata": {},
     "output_type": "execute_result"
    }
   ],
   "source": [
    "#array concatenation\n",
    "x = np.array([1,2,3,4])\n",
    "x"
   ]
  },
  {
   "cell_type": "code",
   "execution_count": 52,
   "metadata": {},
   "outputs": [
    {
     "data": {
      "text/plain": [
       "array([1, 2, 3, 4, 5, 6, 7, 8])"
      ]
     },
     "execution_count": 52,
     "metadata": {},
     "output_type": "execute_result"
    }
   ],
   "source": [
    "y = np.array([5,6,7,8])\n",
    "np.concatenate([x,y])"
   ]
  },
  {
   "cell_type": "code",
   "execution_count": 53,
   "metadata": {},
   "outputs": [
    {
     "data": {
      "text/plain": [
       "array([ 5,  6,  7,  8, 10, 11, 12, 15,  1,  2,  3,  4])"
      ]
     },
     "execution_count": 53,
     "metadata": {},
     "output_type": "execute_result"
    }
   ],
   "source": [
    "z=np.array([10,11,12,15])\n",
    "np.concatenate([y,z,x])"
   ]
  },
  {
   "cell_type": "code",
   "execution_count": 54,
   "metadata": {},
   "outputs": [],
   "source": [
    "grid1 = np.array([[10,20,30],[3,2,1]])\n",
    "grid2 = np.array([[2,3,4],[-1,2,-3]])"
   ]
  },
  {
   "cell_type": "code",
   "execution_count": 57,
   "metadata": {},
   "outputs": [
    {
     "data": {
      "text/plain": [
       "array([[10, 20, 30],\n",
       "       [ 3,  2,  1],\n",
       "       [ 2,  3,  4],\n",
       "       [-1,  2, -3]])"
      ]
     },
     "execution_count": 57,
     "metadata": {},
     "output_type": "execute_result"
    }
   ],
   "source": [
    "np.concatenate([grid1,grid2])"
   ]
  },
  {
   "cell_type": "code",
   "execution_count": 58,
   "metadata": {},
   "outputs": [
    {
     "data": {
      "text/plain": [
       "array([[10, 20, 30,  2,  3,  4],\n",
       "       [ 3,  2,  1, -1,  2, -3]])"
      ]
     },
     "execution_count": 58,
     "metadata": {},
     "output_type": "execute_result"
    }
   ],
   "source": [
    "np.concatenate([grid1,grid2],axis=1)"
   ]
  },
  {
   "cell_type": "code",
   "execution_count": 59,
   "metadata": {},
   "outputs": [
    {
     "name": "stdout",
     "output_type": "stream",
     "text": [
      "[1 2] [3 4 5] [6 7] [8 9]\n"
     ]
    }
   ],
   "source": [
    "x=[1,2,3,4,5,6,7,8,9]\n",
    "a,b,c,d = np.split(x,[2,5,7])\n",
    "print(a,b,c,d)"
   ]
  },
  {
   "cell_type": "code",
   "execution_count": 61,
   "metadata": {},
   "outputs": [
    {
     "data": {
      "text/plain": [
       "array([[ 0,  1,  2,  3,  4],\n",
       "       [ 5,  6,  7,  8,  9],\n",
       "       [10, 11, 12, 13, 14],\n",
       "       [15, 16, 17, 18, 19],\n",
       "       [20, 21, 22, 23, 24]])"
      ]
     },
     "execution_count": 61,
     "metadata": {},
     "output_type": "execute_result"
    }
   ],
   "source": [
    "z = np.arange(25).reshape(5,5)\n",
    "z"
   ]
  },
  {
   "cell_type": "code",
   "execution_count": 62,
   "metadata": {},
   "outputs": [
    {
     "name": "stdout",
     "output_type": "stream",
     "text": [
      "[[ 0  1]\n",
      " [ 5  6]\n",
      " [10 11]\n",
      " [15 16]\n",
      " [20 21]]\n",
      "[[ 2  3  4]\n",
      " [ 7  8  9]\n",
      " [12 13 14]\n",
      " [17 18 19]\n",
      " [22 23 24]]\n"
     ]
    }
   ],
   "source": [
    "left,right = np.hsplit(z,[2])\n",
    "print(left)\n",
    "print(right)"
   ]
  },
  {
   "cell_type": "code",
   "execution_count": 64,
   "metadata": {},
   "outputs": [
    {
     "name": "stdout",
     "output_type": "stream",
     "text": [
      "[[ 0  1  2  3  4]\n",
      " [ 5  6  7  8  9]\n",
      " [10 11 12 13 14]]\n",
      "[[15 16 17 18 19]\n",
      " [20 21 22 23 24]]\n"
     ]
    }
   ],
   "source": [
    "left,right = np.vsplit(z,[3])\n",
    "print(left)\n",
    "print(right)"
   ]
  },
  {
   "cell_type": "code",
   "execution_count": 66,
   "metadata": {},
   "outputs": [
    {
     "name": "stdout",
     "output_type": "stream",
     "text": [
      "[2 3 4 5 6 7 8 9]\n"
     ]
    },
    {
     "data": {
      "text/plain": [
       "44"
      ]
     },
     "execution_count": 66,
     "metadata": {},
     "output_type": "execute_result"
    }
   ],
   "source": [
    "a=np.arange(2,10)\n",
    "print(a)\n",
    "np.add.reduce(a)"
   ]
  },
  {
   "cell_type": "code",
   "execution_count": 69,
   "metadata": {},
   "outputs": [
    {
     "data": {
      "text/plain": [
       "362880"
      ]
     },
     "execution_count": 69,
     "metadata": {},
     "output_type": "execute_result"
    }
   ],
   "source": [
    "np.multiply.reduce(a)"
   ]
  },
  {
   "cell_type": "code",
   "execution_count": 70,
   "metadata": {},
   "outputs": [
    {
     "data": {
      "text/plain": [
       "array([ 2,  5,  9, 14, 20, 27, 35, 44], dtype=int32)"
      ]
     },
     "execution_count": 70,
     "metadata": {},
     "output_type": "execute_result"
    }
   ],
   "source": [
    "np.add.accumulate(a)"
   ]
  },
  {
   "cell_type": "code",
   "execution_count": 72,
   "metadata": {},
   "outputs": [
    {
     "data": {
      "text/plain": [
       "array([     2,      6,     24,    120,    720,   5040,  40320, 362880],\n",
       "      dtype=int32)"
      ]
     },
     "execution_count": 72,
     "metadata": {},
     "output_type": "execute_result"
    }
   ],
   "source": [
    "np.multiply.accumulate(a)"
   ]
  }
 ],
 "metadata": {
  "kernelspec": {
   "display_name": "Python 3",
   "language": "python",
   "name": "python3"
  },
  "language_info": {
   "codemirror_mode": {
    "name": "ipython",
    "version": 3
   },
   "file_extension": ".py",
   "mimetype": "text/x-python",
   "name": "python",
   "nbconvert_exporter": "python",
   "pygments_lexer": "ipython3",
   "version": "3.8.5"
  }
 },
 "nbformat": 4,
 "nbformat_minor": 4
}
